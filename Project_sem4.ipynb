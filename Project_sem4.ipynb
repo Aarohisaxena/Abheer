{
  "nbformat": 4,
  "nbformat_minor": 0,
  "metadata": {
    "colab": {
      "provenance": []
    },
    "kernelspec": {
      "name": "python3",
      "display_name": "Python 3"
    },
    "language_info": {
      "name": "python"
    }
  },
  "cells": [
    {
      "cell_type": "code",
      "execution_count": 1,
      "metadata": {
        "id": "amXBoHwvfEvB"
      },
      "outputs": [],
      "source": [
        "import pandas as pd\n",
        "from sklearn.model_selection import train_test_split\n",
        "from sklearn.preprocessing import StandardScaler\n",
        "from sklearn.decomposition import PCA\n",
        "from sklearn.linear_model import LogisticRegression\n",
        "from sklearn.svm import SVC\n",
        "from sklearn.linear_model import LinearRegression\n",
        "import matplotlib.pyplot as plt"
      ]
    },
    {
      "cell_type": "code",
      "source": [
        "datasets = pd.read_excel(\"/content/Sexual Harassment Data for Machine Learning Project (1).xlsx\", sheet_name=\"Sheet1\")\n"
      ],
      "metadata": {
        "id": "ccewXruBfKvB"
      },
      "execution_count": 2,
      "outputs": []
    },
    {
      "cell_type": "code",
      "source": [
        "datasets['Area'] = datasets['Area'].replace({'Ramapuram': 1, 'West Mambalam': 2, 'Adyar': 3})\n",
        "datasets['Zone'] = datasets['Zone'].replace({\n",
        "    'Aanandam Nagar': 1, 'Ambal Nagar': 2, 'Amman Nagar': 3, 'Chidambaram Nagar': 4, 'Easwaran Nagar': 5,\n",
        "    'Gokulam Colony': 6, 'Moogambigai Nagar': 7, 'Mullai Nagar': 8, 'Royala Nagar': 9, 'Sakthi Nagar': 10,\n",
        "    'Suresh Nagar': 11, 'Tamil Nagar': 12, 'Thiru Nagar': 13, 'Venkateshwara Nagar': 14, 'Postal Colony': 15,\n",
        "    'RamaKrishnapuram': 16, 'Vivekanandapuram': 17, 'Moovendar Colony': 18, 'Kasi Viswanathar Colony': 19,\n",
        "    'Pannerselvam Nagar': 20, 'Shastri Nagar': 21, 'Subramaniam Nagar': 22, 'Baktavatsalm Nagar': 23,\n",
        "    'Venkateshwar Nagar': 24, 'Teachers Colony': 25, 'South Kesavaperumalpuram': 26\n",
        "})\n",
        "datasets['Time'] = datasets['Time'].replace({'Morning': 1, 'Afternoon': 2, 'Evening': 3, 'Night': 4})\n",
        "datasets['People.Frequency'] = datasets['People.Frequency'].replace({'Low': 1, 'Medium': 2, 'High': 3})\n",
        "datasets['Is.Police_Station'] = datasets['Is.Police_Station'].replace({'Yes': 1, 'No': 2})\n",
        "datasets['Is.Bar'] = datasets['Is.Bar'].replace({'Yes': 1, 'No': 2})\n",
        "datasets['Tier'] = datasets['Tier'].replace({'Inner': 1, 'Middle': 2, 'Outer': 3})\n",
        "datasets['Residence.Level'] = datasets['Residence.Level'].replace({'Low': 1, 'Medium': 2, 'High': 3})\n",
        "datasets['Class'] = datasets['Class'].replace({'Safe': 1, 'Unsafe': 2})\n",
        "\n"
      ],
      "metadata": {
        "id": "fXsU9RDcfzSF"
      },
      "execution_count": 3,
      "outputs": []
    },
    {
      "cell_type": "code",
      "source": [
        "X = datasets.drop('Class', axis=1)\n",
        "y = datasets['Class']\n",
        "X_train, X_test, y_train, y_test = train_test_split(X, y, test_size=0.25, random_state=123)\n",
        "\n"
      ],
      "metadata": {
        "id": "yFYH_T98f46E"
      },
      "execution_count": 4,
      "outputs": []
    },
    {
      "cell_type": "code",
      "source": [
        "sc = StandardScaler()\n",
        "X_train_scaled = sc.fit_transform(X_train)\n",
        "X_test_scaled = sc.transform(X_test)"
      ],
      "metadata": {
        "id": "RPw0hjn5gALR"
      },
      "execution_count": 5,
      "outputs": []
    },
    {
      "cell_type": "code",
      "source": [
        "pca = PCA(n_components=2)\n",
        "X_train_pca = pca.fit_transform(X_train_scaled)\n",
        "X_test_pca = pca.transform(X_test_scaled)"
      ],
      "metadata": {
        "id": "IZlHZM4UgER9"
      },
      "execution_count": 6,
      "outputs": []
    },
    {
      "cell_type": "code",
      "source": [
        "logistic_regressor = LogisticRegression()\n",
        "logistic_regressor.fit(X_train_pca, y_train)\n",
        "y_pred = logistic_regressor.predict(X_test_pca)"
      ],
      "metadata": {
        "id": "MtXSHNTpgH4o"
      },
      "execution_count": 7,
      "outputs": []
    },
    {
      "cell_type": "code",
      "source": [
        "plt.figure(figsize=(8, 6))\n",
        "plt.boxplot(y_pred)\n",
        "plt.title('Predictions')\n",
        "plt.xticks([1], ['All Classes'])\n",
        "plt.show()"
      ],
      "metadata": {
        "colab": {
          "base_uri": "https://localhost:8080/",
          "height": 511
        },
        "id": "llA7_9WCgKrW",
        "outputId": "ad64f3d6-68ae-45a2-84c1-2c2dc462cdd1"
      },
      "execution_count": 8,
      "outputs": [
        {
          "output_type": "display_data",
          "data": {
            "text/plain": [
              "<Figure size 800x600 with 1 Axes>"
            ],
            "image/png": "[encoded data removed]"
          },
          "metadata": {}
        }
      ]
    },
    {
      "cell_type": "markdown",
      "source": [],
      "metadata": {
        "id": "4qYhRJaBgSvZ"
      }
    },
    {
      "cell_type": "code",
      "source": [
        "svm_model = SVC()\n",
        "svm_model.fit(X_train_scaled, y_train)"
      ],
      "metadata": {
        "colab": {
          "base_uri": "https://localhost:8080/",
          "height": 74
        },
        "id": "8hCGOlHBgN6H",
        "outputId": "6deb2d52-c81e-4393-93d1-d59476aa44e1"
      },
      "execution_count": 9,
      "outputs": [
        {
          "output_type": "execute_result",
          "data": {
            "text/plain": [
              "SVC()"
            ],
            "text/html": [
              "<style>#sk-container-id-1 {color: black;background-color: white;}#sk-container-id-1 pre{padding: 0;}#sk-container-id-1 div.sk-toggleable {background-color: white;}#sk-container-id-1 label.sk-toggleable__label {cursor: pointer;display: block;width: 100%;margin-bottom: 0;padding: 0.3em;box-sizing: border-box;text-align: center;}#sk-container-id-1 label.sk-toggleable__label-arrow:before {content: \"▸\";float: left;margin-right: 0.25em;color: #696969;}#sk-container-id-1 label.sk-toggleable__label-arrow:hover:before {color: black;}#sk-container-id-1 div.sk-estimator:hover label.sk-toggleable__label-arrow:before {color: black;}#sk-container-id-1 div.sk-toggleable__content {max-height: 0;max-width: 0;overflow: hidden;text-align: left;background-color: #f0f8ff;}#sk-container-id-1 div.sk-toggleable__content pre {margin: 0.2em;color: black;border-radius: 0.25em;background-color: #f0f8ff;}#sk-container-id-1 input.sk-toggleable__control:checked~div.sk-toggleable__content {max-height: 200px;max-width: 100%;overflow: auto;}#sk-container-id-1 input.sk-toggleable__control:checked~label.sk-toggleable__label-arrow:before {content: \"▾\";}#sk-container-id-1 div.sk-estimator input.sk-toggleable__control:checked~label.sk-toggleable__label {background-color: #d4ebff;}#sk-container-id-1 div.sk-label input.sk-toggleable__control:checked~label.sk-toggleable__label {background-color: #d4ebff;}#sk-container-id-1 input.sk-hidden--visually {border: 0;clip: rect(1px 1px 1px 1px);clip: rect(1px, 1px, 1px, 1px);height: 1px;margin: -1px;overflow: hidden;padding: 0;position: absolute;width: 1px;}#sk-container-id-1 div.sk-estimator {font-family: monospace;background-color: #f0f8ff;border: 1px dotted black;border-radius: 0.25em;box-sizing: border-box;margin-bottom: 0.5em;}#sk-container-id-1 div.sk-estimator:hover {background-color: #d4ebff;}#sk-container-id-1 div.sk-parallel-item::after {content: \"\";width: 100%;border-bottom: 1px solid gray;flex-grow: 1;}#sk-container-id-1 div.sk-label:hover label.sk-toggleable__label {background-color: #d4ebff;}#sk-container-id-1 div.sk-serial::before {content: \"\";position: absolute;border-left: 1px solid gray;box-sizing: border-box;top: 0;bottom: 0;left: 50%;z-index: 0;}#sk-container-id-1 div.sk-serial {display: flex;flex-direction: column;align-items: center;background-color: white;padding-right: 0.2em;padding-left: 0.2em;position: relative;}#sk-container-id-1 div.sk-item {position: relative;z-index: 1;}#sk-container-id-1 div.sk-parallel {display: flex;align-items: stretch;justify-content: center;background-color: white;position: relative;}#sk-container-id-1 div.sk-item::before, #sk-container-id-1 div.sk-parallel-item::before {content: \"\";position: absolute;border-left: 1px solid gray;box-sizing: border-box;top: 0;bottom: 0;left: 50%;z-index: -1;}#sk-container-id-1 div.sk-parallel-item {display: flex;flex-direction: column;z-index: 1;position: relative;background-color: white;}#sk-container-id-1 div.sk-parallel-item:first-child::after {align-self: flex-end;width: 50%;}#sk-container-id-1 div.sk-parallel-item:last-child::after {align-self: flex-start;width: 50%;}#sk-container-id-1 div.sk-parallel-item:only-child::after {width: 0;}#sk-container-id-1 div.sk-dashed-wrapped {border: 1px dashed gray;margin: 0 0.4em 0.5em 0.4em;box-sizing: border-box;padding-bottom: 0.4em;background-color: white;}#sk-container-id-1 div.sk-label label {font-family: monospace;font-weight: bold;display: inline-block;line-height: 1.2em;}#sk-container-id-1 div.sk-label-container {text-align: center;}#sk-container-id-1 div.sk-container {/* jupyter's `normalize.less` sets `[hidden] { display: none; }` but bootstrap.min.css set `[hidden] { display: none !important; }` so we also need the `!important` here to be able to override the default hidden behavior on the sphinx rendered scikit-learn.org. See: https://github.com/scikit-learn/scikit-learn/issues/21755 */display: inline-block !important;position: relative;}#sk-container-id-1 div.sk-text-repr-fallback {display: none;}</style><div id=\"sk-container-id-1\" class=\"sk-top-container\"><div class=\"sk-text-repr-fallback\"><pre>SVC()</pre><b>In a Jupyter environment, please rerun this cell to show the HTML representation or trust the notebook. <br />On GitHub, the HTML representation is unable to render, please try loading this page with nbviewer.org.</b></div><div class=\"sk-container\" hidden><div class=\"sk-item\"><div class=\"sk-estimator sk-toggleable\"><input class=\"sk-toggleable__control sk-hidden--visually\" id=\"sk-estimator-id-1\" type=\"checkbox\" checked><label for=\"sk-estimator-id-1\" class=\"sk-toggleable__label sk-toggleable__label-arrow\">SVC</label><div class=\"sk-toggleable__content\"><pre>SVC()</pre></div></div></div></div></div>"
            ]
          },
          "metadata": {},
          "execution_count": 9
        }
      ]
    },
    {
      "cell_type": "code",
      "source": [
        "multi_regressor = LinearRegression()\n",
        "multi_regressor.fit(X_train_scaled, y_train)"
      ],
      "metadata": {
        "colab": {
          "base_uri": "https://localhost:8080/",
          "height": 74
        },
        "id": "0b0K4q30gUDg",
        "outputId": "5469f33c-eaf6-4379-e1b5-a9816020adaf"
      },
      "execution_count": 10,
      "outputs": [
        {
          "output_type": "execute_result",
          "data": {
            "text/plain": [
              "LinearRegression()"
            ],
            "text/html": [
              "<style>#sk-container-id-2 {color: black;background-color: white;}#sk-container-id-2 pre{padding: 0;}#sk-container-id-2 div.sk-toggleable {background-color: white;}#sk-container-id-2 label.sk-toggleable__label {cursor: pointer;display: block;width: 100%;margin-bottom: 0;padding: 0.3em;box-sizing: border-box;text-align: center;}#sk-container-id-2 label.sk-toggleable__label-arrow:before {content: \"▸\";float: left;margin-right: 0.25em;color: #696969;}#sk-container-id-2 label.sk-toggleable__label-arrow:hover:before {color: black;}#sk-container-id-2 div.sk-estimator:hover label.sk-toggleable__label-arrow:before {color: black;}#sk-container-id-2 div.sk-toggleable__content {max-height: 0;max-width: 0;overflow: hidden;text-align: left;background-color: #f0f8ff;}#sk-container-id-2 div.sk-toggleable__content pre {margin: 0.2em;color: black;border-radius: 0.25em;background-color: #f0f8ff;}#sk-container-id-2 input.sk-toggleable__control:checked~div.sk-toggleable__content {max-height: 200px;max-width: 100%;overflow: auto;}#sk-container-id-2 input.sk-toggleable__control:checked~label.sk-toggleable__label-arrow:before {content: \"▾\";}#sk-container-id-2 div.sk-estimator input.sk-toggleable__control:checked~label.sk-toggleable__label {background-color: #d4ebff;}#sk-container-id-2 div.sk-label input.sk-toggleable__control:checked~label.sk-toggleable__label {background-color: #d4ebff;}#sk-container-id-2 input.sk-hidden--visually {border: 0;clip: rect(1px 1px 1px 1px);clip: rect(1px, 1px, 1px, 1px);height: 1px;margin: -1px;overflow: hidden;padding: 0;position: absolute;width: 1px;}#sk-container-id-2 div.sk-estimator {font-family: monospace;background-color: #f0f8ff;border: 1px dotted black;border-radius: 0.25em;box-sizing: border-box;margin-bottom: 0.5em;}#sk-container-id-2 div.sk-estimator:hover {background-color: #d4ebff;}#sk-container-id-2 div.sk-parallel-item::after {content: \"\";width: 100%;border-bottom: 1px solid gray;flex-grow: 1;}#sk-container-id-2 div.sk-label:hover label.sk-toggleable__label {background-color: #d4ebff;}#sk-container-id-2 div.sk-serial::before {content: \"\";position: absolute;border-left: 1px solid gray;box-sizing: border-box;top: 0;bottom: 0;left: 50%;z-index: 0;}#sk-container-id-2 div.sk-serial {display: flex;flex-direction: column;align-items: center;background-color: white;padding-right: 0.2em;padding-left: 0.2em;position: relative;}#sk-container-id-2 div.sk-item {position: relative;z-index: 1;}#sk-container-id-2 div.sk-parallel {display: flex;align-items: stretch;justify-content: center;background-color: white;position: relative;}#sk-container-id-2 div.sk-item::before, #sk-container-id-2 div.sk-parallel-item::before {content: \"\";position: absolute;border-left: 1px solid gray;box-sizing: border-box;top: 0;bottom: 0;left: 50%;z-index: -1;}#sk-container-id-2 div.sk-parallel-item {display: flex;flex-direction: column;z-index: 1;position: relative;background-color: white;}#sk-container-id-2 div.sk-parallel-item:first-child::after {align-self: flex-end;width: 50%;}#sk-container-id-2 div.sk-parallel-item:last-child::after {align-self: flex-start;width: 50%;}#sk-container-id-2 div.sk-parallel-item:only-child::after {width: 0;}#sk-container-id-2 div.sk-dashed-wrapped {border: 1px dashed gray;margin: 0 0.4em 0.5em 0.4em;box-sizing: border-box;padding-bottom: 0.4em;background-color: white;}#sk-container-id-2 div.sk-label label {font-family: monospace;font-weight: bold;display: inline-block;line-height: 1.2em;}#sk-container-id-2 div.sk-label-container {text-align: center;}#sk-container-id-2 div.sk-container {/* jupyter's `normalize.less` sets `[hidden] { display: none; }` but bootstrap.min.css set `[hidden] { display: none !important; }` so we also need the `!important` here to be able to override the default hidden behavior on the sphinx rendered scikit-learn.org. See: https://github.com/scikit-learn/scikit-learn/issues/21755 */display: inline-block !important;position: relative;}#sk-container-id-2 div.sk-text-repr-fallback {display: none;}</style><div id=\"sk-container-id-2\" class=\"sk-top-container\"><div class=\"sk-text-repr-fallback\"><pre>LinearRegression()</pre><b>In a Jupyter environment, please rerun this cell to show the HTML representation or trust the notebook. <br />On GitHub, the HTML representation is unable to render, please try loading this page with nbviewer.org.</b></div><div class=\"sk-container\" hidden><div class=\"sk-item\"><div class=\"sk-estimator sk-toggleable\"><input class=\"sk-toggleable__control sk-hidden--visually\" id=\"sk-estimator-id-2\" type=\"checkbox\" checked><label for=\"sk-estimator-id-2\" class=\"sk-toggleable__label sk-toggleable__label-arrow\">LinearRegression</label><div class=\"sk-toggleable__content\"><pre>LinearRegression()</pre></div></div></div></div></div>"
            ]
          },
          "metadata": {},
          "execution_count": 10
        }
      ]
    },
    {
      "cell_type": "code",
      "source": [
        "import joblib\n",
        "\n",
        "joblib.dump(multi_regressor, 'multivariate_regression_model.pkl')\n"
      ],
      "metadata": {
        "colab": {
          "base_uri": "https://localhost:8080/"
        },
        "id": "IHYk2xKxgW7n",
        "outputId": "2c879877-25f7-4353-ba34-4e0bd60ff58c"
      },
      "execution_count": 11,
      "outputs": [
        {
          "output_type": "execute_result",
          "data": {
            "text/plain": [
              "['multivariate_regression_model.pkl']"
            ]
          },
          "metadata": {},
          "execution_count": 11
        }
      ]
    },
    {
      "cell_type": "code",
      "source": [
        "loaded_multivariate_model = joblib.load('multivariate_regression_model.pkl')\n"
      ],
      "metadata": {
        "id": "pm1p73wLgdzC"
      },
      "execution_count": 12,
      "outputs": []
    },
    {
      "cell_type": "code",
      "source": [
        "multivariate_predictions = loaded_multivariate_model.predict(X_test_scaled)\n"
      ],
      "metadata": {
        "id": "-o0_GFMhgg-a"
      },
      "execution_count": 13,
      "outputs": []
    },
    {
      "cell_type": "code",
      "source": [
        "from sklearn.metrics import mean_squared_error\n",
        "multivariate_mse = mean_squared_error(y_test, multivariate_predictions)\n"
      ],
      "metadata": {
        "id": "ZOzZay4ugkI4"
      },
      "execution_count": 14,
      "outputs": []
    },
    {
      "cell_type": "code",
      "source": [
        "print(\"Multivariate Regression Predictions:\", multivariate_predictions)\n",
        "print(\"Multivariate Regression Mean Squared Error:\", multivariate_mse)"
      ],
      "metadata": {
        "colab": {
          "base_uri": "https://localhost:8080/"
        },
        "id": "Mm8cH5Fpgm1r",
        "outputId": "0b1c0ce3-1f30-4936-ef23-cc3c837c5f98"
      },
      "execution_count": 15,
      "outputs": [
        {
          "output_type": "stream",
          "name": "stdout",
          "text": [
            "Multivariate Regression Predictions: [0.91427826 1.25063173 1.50698622 1.14165665 1.65994464 1.29881585\n",
            " 1.3200106  1.48707757 0.94750494 1.34072521 0.99423025 1.32081656\n",
            " 1.67143345 1.20978031 1.6607506  1.26327643 1.00253669 0.83127619\n",
            " 0.91955589 1.26465923 1.3650828  1.10806238 1.37790209 1.04154862\n",
            " 1.50214898 1.43241136]\n",
            "Multivariate Regression Mean Squared Error: 0.11699769352774406\n"
          ]
        }
      ]
    },
    {
      "cell_type": "code",
      "source": [
        "print(\"\\nMultivariate Regression:\")\n",
        "for actual, predicted in zip(y_test, multivariate_predictions):\n",
        "    print(\"Actual:\", actual, \"Predicted:\", predicted)"
      ],
      "metadata": {
        "colab": {
          "base_uri": "https://localhost:8080/"
        },
        "id": "f-_xBzAwgtTG",
        "outputId": "8ab75155-a838-4a1b-b32c-ad228c442e69"
      },
      "execution_count": 16,
      "outputs": [
        {
          "output_type": "stream",
          "name": "stdout",
          "text": [
            "\n",
            "Multivariate Regression:\n",
            "Actual: 1 Predicted: 0.9142782623426029\n",
            "Actual: 1 Predicted: 1.2506317318096438\n",
            "Actual: 2 Predicted: 1.5069862203366233\n",
            "Actual: 1 Predicted: 1.1416566471890797\n",
            "Actual: 1 Predicted: 1.659944640731037\n",
            "Actual: 1 Predicted: 1.298815848318479\n",
            "Actual: 1 Predicted: 1.3200105966491957\n",
            "Actual: 1 Predicted: 1.4870775663434932\n",
            "Actual: 1 Predicted: 0.9475049425085044\n",
            "Actual: 1 Predicted: 1.3407252140117107\n",
            "Actual: 1 Predicted: 0.9942302490059226\n",
            "Actual: 1 Predicted: 1.3208165600185808\n",
            "Actual: 2 Predicted: 1.6714334472986299\n",
            "Actual: 1 Predicted: 1.2097803064271209\n",
            "Actual: 1 Predicted: 1.6607506041004223\n",
            "Actual: 1 Predicted: 1.263276432326489\n",
            "Actual: 1 Predicted: 1.0025366942991134\n",
            "Actual: 1 Predicted: 0.8312761875634732\n",
            "Actual: 1 Predicted: 0.9195558904026345\n",
            "Actual: 1 Predicted: 1.264659225006144\n",
            "Actual: 1 Predicted: 1.3650828045199497\n",
            "Actual: 1 Predicted: 1.1080623847254487\n",
            "Actual: 1 Predicted: 1.3779020863916807\n",
            "Actual: 1 Predicted: 1.0415486169246397\n",
            "Actual: 2 Predicted: 1.502148982827425\n",
            "Actual: 2 Predicted: 1.4324113615490752\n"
          ]
        }
      ]
    },
    {
      "cell_type": "code",
      "source": [],
      "metadata": {
        "id": "yxLMccvKgp8X"
      },
      "execution_count": null,
      "outputs": []
    }
  ]
}